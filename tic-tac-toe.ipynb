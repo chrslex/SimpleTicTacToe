{
 "metadata": {
  "language_info": {
   "codemirror_mode": {
    "name": "ipython",
    "version": 3
   },
   "file_extension": ".py",
   "mimetype": "text/x-python",
   "name": "python",
   "nbconvert_exporter": "python",
   "pygments_lexer": "ipython3",
   "version": "3.9.0-final"
  },
  "orig_nbformat": 2,
  "kernelspec": {
   "name": "python3",
   "display_name": "Python 3.9.0 64-bit",
   "metadata": {
    "interpreter": {
     "hash": "ac59ebe37160ed0dfa835113d9b8498d9f09ceb179beaac4002f036b9467c963"
    }
   }
  }
 },
 "nbformat": 4,
 "nbformat_minor": 2,
 "cells": [
  {
   "cell_type": "code",
   "execution_count": 21,
   "metadata": {},
   "outputs": [],
   "source": [
    "from IPython.display import clear_output\n",
    "#Creating function that print out board \n",
    "def display_board(board):\n",
    "    print(board[1]+' | '+board[2]+' | '+board[3])\n",
    "    print(board[4]+' | '+board[5]+' | '+board[6])\n",
    "    print(board[7]+' | '+board[8]+' | '+board[9])"
   ]
  },
  {
   "cell_type": "code",
   "execution_count": 22,
   "metadata": {},
   "outputs": [],
   "source": [
    "def user_input():\n",
    "    player_1 = str(input('Enter your symbol choice player_1 : '))\n",
    "    player_2 = ' '\n",
    "    while(not(player_1 == 'X' or player_1 == 'O')):\n",
    "        player_1 = str(input('Please enter valid symbols'))\n",
    "    if(player_1 == 'X'):\n",
    "        player_2 = 'O'\n",
    "    else:\n",
    "        player_2 = 'X'\n",
    "    return (player_1,player_2) #Gives back tuple each assigned with player's choice of symbol"
   ]
  },
  {
   "cell_type": "code",
   "execution_count": 23,
   "metadata": {},
   "outputs": [],
   "source": [
    "def symbol_placement(board,symbol,position):\n",
    "    board[position] = symbol\n",
    "    return board"
   ]
  },
  {
   "cell_type": "code",
   "execution_count": 24,
   "metadata": {},
   "outputs": [],
   "source": [
    "def win_check(board,symbol): #Winning check\n",
    "    win_list = [[1,2,3],[4,5,6],[7,8,9],[1,4,7],[2,5,8],[3,6,9],[1,5,9],[3,5,7]]\n",
    "    for i in range(8):\n",
    "        check = list(filter(lambda position: board[position] == symbol, tuple(win_list[i])))\n",
    "        if check in win_list:\n",
    "            return True\n",
    "    return False"
   ]
  },
  {
   "cell_type": "code",
   "execution_count": 25,
   "metadata": {},
   "outputs": [],
   "source": [
    "import random \n",
    "def choose_first(): #Randomizing order of playing\n",
    "    flip = random.randint(0,1)\n",
    "\n",
    "    if (flip == 0):\n",
    "        return 'Player 1'\n",
    "    else:\n",
    "        return 'Player 2' "
   ]
  },
  {
   "cell_type": "code",
   "execution_count": 26,
   "metadata": {},
   "outputs": [],
   "source": [
    "def space_availability(board,position): #Checking availability of specific position in board\n",
    "    return (board[position] != 'X' and board[position] != 'O')"
   ]
  },
  {
   "cell_type": "code",
   "execution_count": 27,
   "metadata": {},
   "outputs": [],
   "source": [
    "def full_board_check(board):\n",
    "    for i in range(1,10):\n",
    "        if space_availability(board,i):\n",
    "            return False\n",
    "    return True"
   ]
  },
  {
   "cell_type": "code",
   "execution_count": 28,
   "metadata": {},
   "outputs": [],
   "source": [
    "def player_choice(board):\n",
    "    position = 0\n",
    "    while position not in list(range(1,10)) or not space_availability(board,position):\n",
    "        position = int(input('Enter a position (1-10) : '))\n",
    "    return position"
   ]
  },
  {
   "cell_type": "code",
   "execution_count": 29,
   "metadata": {},
   "outputs": [],
   "source": [
    "def replay():\n",
    "    choice = str(input('Do you want to play again (Y/N) : '))\n",
    "    return choice == 'Y'"
   ]
  },
  {
   "cell_type": "code",
   "execution_count": 30,
   "metadata": {},
   "outputs": [
    {
     "output_type": "stream",
     "name": "stdout",
     "text": [
      "Let's play Tic-Tac-Toe\n"
     ]
    }
   ],
   "source": [
    "print('Let\\'s play Tic-Tac-Toe')\n",
    "\n",
    "while True:\n",
    "    playing_board = [' ']*10\n",
    "    player1, player2 = user_input()\n",
    "\n",
    "    turn = choose_first()\n",
    "    print(turn + ' will go first')\n",
    "\n",
    "    start = True\n",
    "    while(start):\n",
    "        if (turn == 'Player 1'):\n",
    "            display_board(playing_board)\n",
    "            print('Player 1 choose your position')\n",
    "            position = player_choice(playing_board)\n",
    "            symbol_placement(playing_board, player1, position)\n",
    "            if win_check(playing_board,player1):\n",
    "                display_board(playing_board)\n",
    "                print(\"Player 1 has won!\")\n",
    "                break\n",
    "            else:\n",
    "                if full_board_check(playing_board):\n",
    "                    display_board(playing_board)\n",
    "                    print('The Game is Tie')\n",
    "                    break\n",
    "                else:\n",
    "                    turn = 'Player 2'\n",
    "        else:\n",
    "            display_board(playing_board)\n",
    "            print('Player 2 choose your position')\n",
    "            position = player_choice(playing_board)\n",
    "            symbol_placement(playing_board, player2, position)\n",
    "            if win_check(playing_board,player2):\n",
    "                display_board(playing_board)\n",
    "                print(\"Player 2 has won!\")\n",
    "                break\n",
    "            else:\n",
    "                if full_board_check(playing_board):\n",
    "                    display_board(playing_board)\n",
    "                    print('The Game is Tie')\n",
    "                    break\n",
    "                else:\n",
    "                    turn = 'Player 1'"
   ]
  }
 ]
}